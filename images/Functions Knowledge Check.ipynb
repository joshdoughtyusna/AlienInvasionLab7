{
 "cells": [
  {
   "cell_type": "markdown",
   "id": "d44808d1",
   "metadata": {},
   "source": [
    "<img src=\"https://www.usna.edu/WRC/_files/WRClogos/WRCE-logo-combined-01-crop.png\" width=\"200px\">\n",
    "\n",
    "# Functions Knowledge Check"
   ]
  },
  {
   "cell_type": "markdown",
   "id": "2a86bf7e",
   "metadata": {},
   "source": [
    "Write a function called making_coffee that takes one positional string argument called first_ingredient and another optional keyword argument called second_ingredient. The default second_ingredient should be \"sugar\". The function should print the following: \"Adding <first_ingredient> and <second_ingredient> to your coffee\". Call your function two times - once with two arguments and once with just one argument"
   ]
  },
  {
   "cell_type": "code",
   "execution_count": null,
   "id": "d8f8e32d",
   "metadata": {},
   "outputs": [],
   "source": []
  }
 ],
 "metadata": {
  "kernelspec": {
   "display_name": "Python 3 (ipykernel)",
   "language": "python",
   "name": "python3"
  },
  "language_info": {
   "codemirror_mode": {
    "name": "ipython",
    "version": 3
   },
   "file_extension": ".py",
   "mimetype": "text/x-python",
   "name": "python",
   "nbconvert_exporter": "python",
   "pygments_lexer": "ipython3",
   "version": "3.9.12"
  }
 },
 "nbformat": 4,
 "nbformat_minor": 5
}
